{
  "nbformat": 4,
  "nbformat_minor": 0,
  "metadata": {
    "colab": {
      "provenance": [],
      "authorship_tag": "ABX9TyOueRdciHd2E6ejiShLRLkR",
      "include_colab_link": true
    },
    "kernelspec": {
      "name": "python3",
      "display_name": "Python 3"
    },
    "language_info": {
      "name": "python"
    }
  },
  "cells": [
    {
      "cell_type": "markdown",
      "metadata": {
        "id": "view-in-github",
        "colab_type": "text"
      },
      "source": [
        "<a href=\"https://colab.research.google.com/github/Harsh152003/Reinforcement_Learning/blob/main/Exp_6.ipynb\" target=\"_parent\"><img src=\"https://colab.research.google.com/assets/colab-badge.svg\" alt=\"Open In Colab\"/></a>"
      ]
    },
    {
      "cell_type": "code",
      "execution_count": 5,
      "metadata": {
        "colab": {
          "base_uri": "https://localhost:8080/"
        },
        "id": "E9zat0y_v8UX",
        "outputId": "38e70235-ecc0-4c51-a858-4ef2408a4aee"
      },
      "outputs": [
        {
          "output_type": "stream",
          "name": "stdout",
          "text": [
            "Current State: 1, Next State: 1\n",
            "Current State: 0, Next State: 0\n",
            "Current State: 0, Next State: 0\n",
            "Current State: 0, Next State: 0\n",
            "Current State: 0, Next State: 0\n",
            "Current State: 1, Next State: 1\n",
            "Current State: 0, Next State: 0\n",
            "Current State: 0, Next State: 0\n",
            "Current State: 1, Next State: 1\n",
            "Current State: 1, Next State: 1\n"
          ]
        }
      ],
      "source": [
        "import numpy as np\n",
        "\n",
        "class MarkovProcess:\n",
        "    def __init__(self, transition_matrix, initial_state):\n",
        "        \"\"\"\n",
        "        Initialize the Markov process\n",
        "        Parameters:\n",
        "            - transition_matrix: a 2D numpy array representing the transition probabilities.\n",
        "            - initial_state: the initial state of the process.\n",
        "        \"\"\"\n",
        "        self.transition_matrix = transition_matrix\n",
        "        self.current_state = initial_state\n",
        "\n",
        "    def step(self):\n",
        "        \"\"\"\n",
        "        Perform one step of the Markov process by transitioning to a new state based on the\n",
        "        probabilities in the transition matrix.\n",
        "        Returns:\n",
        "            - new_state: the new state after the transition.\n",
        "        \"\"\"\n",
        "        transition_probs = self.transition_matrix[self.current_state]\n",
        "        new_state = np.random.choice(len(transition_probs), p=transition_probs)\n",
        "        self.current_state = new_state\n",
        "        return new_state\n",
        "\n",
        "# Example usage\n",
        "def main():\n",
        "    # Define a transition matrix for a simple 3-state Markov chain\n",
        "    # Rows represent current state, columns represent next state\n",
        "    transition_matrix = np.array([\n",
        "        [0.7, 0.2, 0.1],\n",
        "        [0.3, 0.4, 0.3],\n",
        "        [0.1, 0.3, 0.6]\n",
        "    ])\n",
        "    # Initial state\n",
        "    initial_state = 0  # Assuming the initial state is 0\n",
        "    # Create a Markov process\n",
        "    markov_process = MarkovProcess(transition_matrix, initial_state)\n",
        "    # Perform 10 steps of the Markov process\n",
        "    for _ in range(10):\n",
        "        new_state = markov_process.step()\n",
        "        print(f\"Current State: {markov_process.current_state}, Next State: {new_state}\")\n",
        "\n",
        "if __name__ == \"__main__\":\n",
        "    main()\n"
      ]
    }
  ]
}