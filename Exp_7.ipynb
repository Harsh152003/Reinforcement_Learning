{
  "nbformat": 4,
  "nbformat_minor": 0,
  "metadata": {
    "colab": {
      "provenance": [],
      "authorship_tag": "ABX9TyOkWEeKqwHum6yEvjprUaAL",
      "include_colab_link": true
    },
    "kernelspec": {
      "name": "python3",
      "display_name": "Python 3"
    },
    "language_info": {
      "name": "python"
    }
  },
  "cells": [
    {
      "cell_type": "markdown",
      "metadata": {
        "id": "view-in-github",
        "colab_type": "text"
      },
      "source": [
        "<a href=\"https://colab.research.google.com/github/Harsh152003/Reinforcement_Learning/blob/main/Exp_7.ipynb\" target=\"_parent\"><img src=\"https://colab.research.google.com/assets/colab-badge.svg\" alt=\"Open In Colab\"/></a>"
      ]
    },
    {
      "cell_type": "code",
      "execution_count": 9,
      "metadata": {
        "id": "USEcqEh4xiN7"
      },
      "outputs": [],
      "source": [
        "import numpy as np\n",
        "import pandas as pd\n",
        "import matplotlib.pyplot as plt"
      ]
    },
    {
      "cell_type": "code",
      "source": [
        "states = [\"state1\", \"state2\", \"state3\"]\n",
        "actions = [\"action1\", \"action2\"]\n",
        "gamma = 0.9\n",
        "\n",
        "print(\"States: \", states)\n",
        "print(\"Actions: \", actions)\n",
        "print(\"Gamma: \", gamma)"
      ],
      "metadata": {
        "colab": {
          "base_uri": "https://localhost:8080/"
        },
        "id": "PZ3CLxoI_og2",
        "outputId": "07943dc9-aac5-48b6-b9c4-ed92fcc29843"
      },
      "execution_count": 10,
      "outputs": [
        {
          "output_type": "stream",
          "name": "stdout",
          "text": [
            "States:  ['state1', 'state2', 'state3']\n",
            "Actions:  ['action1', 'action2']\n",
            "Gamma:  0.9\n"
          ]
        }
      ]
    },
    {
      "cell_type": "code",
      "source": [
        "P = pd.DataFrame([\n",
        "    [[0.7, 0.3], [0.6, 0.4]],\n",
        "    [[0.4, 0.6], [0.5, 0.5]],\n",
        "    [[0.5, 0.5], [0.2, 0.8]]\n",
        "], index=states, columns=actions)\n",
        "\n",
        "print(\"\\nTransition Probability Matrix:\")\n",
        "print(P)"
      ],
      "metadata": {
        "colab": {
          "base_uri": "https://localhost:8080/"
        },
        "id": "kIzVkWeO_od0",
        "outputId": "a0c4afd9-89a4-41ff-c926-6a5d1ea5b14a"
      },
      "execution_count": 15,
      "outputs": [
        {
          "output_type": "stream",
          "name": "stdout",
          "text": [
            "\n",
            "Transition Probability Matrix:\n",
            "           action1     action2\n",
            "state1  [0.7, 0.3]  [0.6, 0.4]\n",
            "state2  [0.4, 0.6]  [0.5, 0.5]\n",
            "state3  [0.5, 0.5]  [0.2, 0.8]\n"
          ]
        }
      ]
    },
    {
      "cell_type": "code",
      "source": [
        "R = pd.DataFrame([\n",
        "    [-1, -2],\n",
        "    [-3, -4],\n",
        "    [-5, -6]\n",
        "], index=states, columns=actions)\n",
        "\n",
        "print(\"\\nReward Matrix:\")\n",
        "print(R)"
      ],
      "metadata": {
        "colab": {
          "base_uri": "https://localhost:8080/"
        },
        "id": "e3LJOCMk_oaU",
        "outputId": "5a103c24-ba0f-42a3-e877-28349a1b7b31"
      },
      "execution_count": 16,
      "outputs": [
        {
          "output_type": "stream",
          "name": "stdout",
          "text": [
            "\n",
            "Reward Matrix:\n",
            "        action1  action2\n",
            "state1       -1       -2\n",
            "state2       -3       -4\n",
            "state3       -5       -6\n"
          ]
        }
      ]
    },
    {
      "cell_type": "code",
      "source": [
        "policy = pd.Series([0.5, 0.5] for _ in states)\n",
        "\n",
        "print(\"\\nInitial Policy:\")\n",
        "print(policy)"
      ],
      "metadata": {
        "colab": {
          "base_uri": "https://localhost:8080/"
        },
        "id": "khkBslKj_wyz",
        "outputId": "9824feec-33fa-48ec-a6d2-1c5bb15af15a"
      },
      "execution_count": 17,
      "outputs": [
        {
          "output_type": "stream",
          "name": "stdout",
          "text": [
            "\n",
            "Initial Policy:\n",
            "0    [0.5, 0.5]\n",
            "1    [0.5, 0.5]\n",
            "2    [0.5, 0.5]\n",
            "dtype: object\n"
          ]
        }
      ]
    },
    {
      "cell_type": "code",
      "source": [
        "def policy_evaluation(policy, P, R, gamma, theta=1e-8):\n",
        "    n_states = len(P)\n",
        "    V = pd.Series([0] * n_states)\n",
        "\n",
        "    while True:\n",
        "        V_new = R.values + gamma * P.values.dot(V.values)  # Update this line\n",
        "        delta = abs(V_new - V).max()\n",
        "        V = V_new\n",
        "\n",
        "        if delta < theta:\n",
        "            break\n",
        "\n",
        "    return V\n",
        "\n",
        "\n",
        "def policy_improvement(policy, P, R, gamma):\n",
        "    n_states = len(P)\n",
        "    policy_new = policy.copy()\n",
        "\n",
        "    for state in states:\n",
        "        old_action = np.random.choice(actions, p=policy.loc[state])\n",
        "        new_action = np.argmax([sum(P.loc[state, action] * R.loc[state, action] * policy.loc[state, action] for action in actions)])\n",
        "\n",
        "        if new_action != old_action:\n",
        "            policy_new.loc[state] = [0.5, 0.5]\n",
        "            policy_new.loc[state, actions[new_action]] = 1.0\n",
        "\n",
        "    return policy_new\n",
        "\n",
        "\n",
        "def policy_iteration(policy, P, R, gamma, theta=1e-8, max_iter=1000):\n",
        "    n_iter = 0\n",
        "\n",
        "    while n_iter < max_iter:\n",
        "        V = policy_evaluation(policy, P, R, gamma, theta)\n",
        "        policy_new = policy_improvement(policy, P, R, gamma)\n",
        "\n",
        "        if (policy_new - policy).abs().max() < theta:\n",
        "            break\n",
        "\n",
        "        policy = policy_new\n",
        "        n_iter += 1\n",
        "\n",
        "    return policy, V\n",
        "\n",
        "print(\"\\nPolicy Iteration Results:\")\n",
        "policy_new, V = policy_iteration(policy, P, R, gamma)\n",
        "print(\"New Policy:\")\n",
        "print(policy_new)\n",
        "print(\"State Values:\")\n",
        "print(V)"
      ],
      "metadata": {
        "id": "rJ3Bam8J_wv7"
      },
      "execution_count": null,
      "outputs": []
    },
    {
      "cell_type": "code",
      "source": [],
      "metadata": {
        "id": "Pm_C56FV_ws7"
      },
      "execution_count": null,
      "outputs": []
    }
  ]
}