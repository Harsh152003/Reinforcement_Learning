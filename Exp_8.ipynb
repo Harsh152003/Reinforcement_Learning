{
  "nbformat": 4,
  "nbformat_minor": 0,
  "metadata": {
    "colab": {
      "provenance": [],
      "authorship_tag": "ABX9TyMncjjoUHYM37rYNbF0twf3",
      "include_colab_link": true
    },
    "kernelspec": {
      "name": "python3",
      "display_name": "Python 3"
    },
    "language_info": {
      "name": "python"
    }
  },
  "cells": [
    {
      "cell_type": "markdown",
      "metadata": {
        "id": "view-in-github",
        "colab_type": "text"
      },
      "source": [
        "<a href=\"https://colab.research.google.com/github/Harsh152003/Reinforcement_Learning/blob/main/Exp_8.ipynb\" target=\"_parent\"><img src=\"https://colab.research.google.com/assets/colab-badge.svg\" alt=\"Open In Colab\"/></a>"
      ]
    },
    {
      "cell_type": "code",
      "execution_count": 7,
      "metadata": {
        "colab": {
          "base_uri": "https://localhost:8080/"
        },
        "id": "G9ameA7FCTBb",
        "outputId": "fc951dea-c660-4535-8747-c9914182567d"
      },
      "outputs": [
        {
          "output_type": "stream",
          "name": "stdout",
          "text": [
            "Iteration: 2613, Biggest Change: 0.0024582685024683304\n"
          ]
        }
      ],
      "source": [
        "import numpy as np\n",
        "\n",
        "'''==================================================\n",
        "Initial set up\n",
        "=================================================='''\n",
        "\n",
        "#Hyperparameters\n",
        "SMALL_ENOUGH = 0.005\n",
        "GAMMA = 0.9\n",
        "NOISE = 0.10\n",
        "\n",
        "#Define all states\n",
        "all_states=[]\n",
        "for i in range(3):\n",
        "    for j in range(4):\n",
        "            all_states.append((i,j))\n",
        "\n",
        "#Define rewards for all states\n",
        "rewards = {}\n",
        "for i in all_states:\n",
        "    if i == (1,2):\n",
        "        rewards[i] = -1\n",
        "    elif i == (2,2):\n",
        "        rewards[i] = -1\n",
        "    elif i == (2,3):\n",
        "        rewards[i] = 1\n",
        "    else:\n",
        "        rewards[i] = 0\n",
        "\n",
        "#Dictionnary of possible actions. We have two \"end\" states (1,2 and 2,2)\n",
        "actions = {\n",
        "    (0,0):('D', 'R'),\n",
        "    (0,1):('D', 'R', 'L'),\n",
        "    (0,2):('D', 'L', 'R'),\n",
        "    (0,3):('D', 'L'),\n",
        "    (1,0):('D', 'U', 'R'),\n",
        "    (1,1):('D', 'R', 'L', 'U'),\n",
        "    (1,3):('D', 'L', 'U'),\n",
        "    (2,0):('U', 'R'),\n",
        "    (2,1):('U', 'L', 'R'),\n",
        "    }\n",
        "\n",
        "#Define an initial policy\n",
        "policy={}\n",
        "for s in actions.keys():\n",
        "    policy[s] = np.random.choice(actions[s])\n",
        "\n",
        "#Define initial value function\n",
        "V={}\n",
        "for s in all_states:\n",
        "    if s in actions.keys():\n",
        "        V[s] = 0\n",
        "    if s ==(2,2):\n",
        "        V[s]=-1\n",
        "    if s == (1,2):\n",
        "        V[s]=-1\n",
        "    if s == (2,3):\n",
        "        V[s]=1\n",
        "\n",
        "'''==================================================\n",
        "Value Iteration\n",
        "=================================================='''\n",
        "\n",
        "iteration = 0\n",
        "\n",
        "while True:\n",
        "    biggest_change = 0\n",
        "    for s in all_states:\n",
        "        if s in policy:\n",
        "\n",
        "            old_v = V[s]\n",
        "            new_v = 0\n",
        "\n",
        "            for a in actions[s]:\n",
        "                if a == 'U':\n",
        "                    nxt = [s[0]-1, s[1]]\n",
        "                if a == 'D':\n",
        "                    nxt = [s[0]+1, s[1]]\n",
        "                if a == 'L':\n",
        "                    nxt = [s[0], s[1]-1]\n",
        "                if a == 'R':\n",
        "                    nxt = [s[0], s[1]+1]\n",
        "\n",
        "                #Choose a new random action to do (transition probability)\n",
        "                random_1=np.random.choice([i for i in actions[s] if i != a])\n",
        "                if random_1 == 'U':\n",
        "                    act = [s[0]-1, s[1]]\n",
        "                if random_1 == 'D':\n",
        "                    act = [s[0]+1, s[1]]\n",
        "                if random_1 == 'L':\n",
        "                    act = [s[0], s[1]-1]\n",
        "                if random_1 == 'R':\n",
        "                    act = [s[0], s[1]+1]\n",
        "\n",
        "                #Calculate the value\n",
        "                nxt = tuple(nxt)\n",
        "                act = tuple(act)\n",
        "                v = rewards[s] + (GAMMA * ((1-NOISE)* V[nxt] + (NOISE * V[act])))\n",
        "                if v > new_v: #Is this the best action so far? If so, keep it\n",
        "                    new_v = v\n",
        "                    policy[s] = a\n",
        "\n",
        "       #Save the best of all actions for the state\n",
        "            V[s] = new_v\n",
        "            biggest_change = max(biggest_change, np.abs(old_v - V[s]))\n",
        "\n",
        "\n",
        "   #See if the loop should stop now\n",
        "    if biggest_change < SMALL_ENOUGH:\n",
        "        break\n",
        "    iteration += 1\n",
        "print(f\"Iteration: {iteration}, Biggest Change: {biggest_change}\")\n"
      ]
    }
  ]
}